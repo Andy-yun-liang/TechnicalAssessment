{
  "nbformat": 4,
  "nbformat_minor": 0,
  "metadata": {
    "colab": {
      "provenance": [],
      "include_colab_link": true
    },
    "kernelspec": {
      "name": "python3",
      "display_name": "Python 3"
    },
    "language_info": {
      "name": "python"
    }
  },
  "cells": [
    {
      "cell_type": "markdown",
      "metadata": {
        "id": "view-in-github",
        "colab_type": "text"
      },
      "source": [
        "<a href=\"https://colab.research.google.com/github/Andy-yun-liang/TechnicalAssessment/blob/main/Seminar_Registration_V2.ipynb\" target=\"_parent\"><img src=\"https://colab.research.google.com/assets/colab-badge.svg\" alt=\"Open In Colab\"/></a>"
      ]
    },
    {
      "cell_type": "markdown",
      "source": [
        "Library Imports"
      ],
      "metadata": {
        "id": "CqgtWeABhK7H"
      }
    },
    {
      "cell_type": "code",
      "execution_count": 327,
      "metadata": {
        "id": "w2riK9DGEzXA"
      },
      "outputs": [],
      "source": [
        "import pandas as pd\n",
        "from datetime import datetime\n",
        "from google.colab import files\n",
        "import re\n",
        "from io import BytesIO\n",
        "from io import StringIO"
      ]
    },
    {
      "cell_type": "markdown",
      "source": [
        "Functions"
      ],
      "metadata": {
        "id": "ADhoPE_l82TI"
      }
    },
    {
      "cell_type": "code",
      "source": [
        "def phoneNumberValidation(phone_str):\n",
        "\n",
        "\n",
        "    if not isinstance(phone_str, str):\n",
        "        return phone_str\n",
        "    original_str = phone_str\n",
        "    phone_str = phone_str.strip()\n",
        "\n",
        "\n",
        "    if phone_str.startswith(\"1\"):\n",
        "        phone_str = phone_str[1:]\n",
        "\n",
        "\n",
        "    cleaned_str = (\n",
        "        phone_str.replace(\".\", \"-\")\n",
        "        .replace(\"+1\", \"\")\n",
        "        .replace(\" \", \"-\")\n",
        "        .replace(\"(\", \"\")\n",
        "        .replace(\")\", \"\")\n",
        "        .replace(\"/\", \"-\")\n",
        "    )\n",
        "\n",
        "\n",
        "    cleaned_str = ''.join(char for char in cleaned_str if char.isdigit() or char == '-')\n",
        "\n",
        "\n",
        "    cleaned_for_validation = cleaned_str.replace(\"-\", \"\")\n",
        "\n",
        "\n",
        "    if not cleaned_for_validation.isdigit() or len(cleaned_for_validation) != 10:\n",
        "        return original_str\n",
        "\n",
        "\n",
        "    return f\"{cleaned_for_validation[:3]}-{cleaned_for_validation[3:6]}-{cleaned_for_validation[6:]}\"\n",
        "\n",
        "\n",
        "\n",
        "\n",
        "def emailValidation(email_str):\n",
        "\n",
        "    original_email = email_str\n",
        "    if not isinstance(email_str, str):\n",
        "        return original_email\n",
        "\n",
        "\n",
        "    email_str = email_str.replace(',', '.')\n",
        "    email_str = email_str.lower()\n",
        "    email_str = email_str.replace(' ', '')\n",
        "\n",
        "\n",
        "    domains = [\"hotmail\", \"gmail\", \"yahoo\", \"outlook\"]\n",
        "    for domain in domains:\n",
        "        if domain in email_str and \"@\" not in email_str:\n",
        "            email_str = email_str.replace(domain, \"@\" + domain)\n",
        "            break\n",
        "\n",
        "\n",
        "    pattern = r\"^[a-zA-Z0-9_.+-]+@[a-zA-Z0-9-]+\\.[a-zA-Z0-9-.]+$\"\n",
        "\n",
        "\n",
        "    if re.match(pattern, email_str):\n",
        "        return email_str\n",
        "    else:\n",
        "        return original_email\n",
        "\n",
        "\n",
        "\n",
        "def upload_and_read_csv():\n",
        "\n",
        "    uploaded = files.upload()\n",
        "\n",
        "\n",
        "    file_name = next(iter(uploaded))\n",
        "\n",
        "\n",
        "    if not file_name.endswith('.csv'):\n",
        "        print(\"Please upload a CSV file!\")\n",
        "        return None\n",
        "\n",
        "\n",
        "    data_csv = pd.read_csv(StringIO(uploaded[file_name].decode('utf-8')))\n",
        "\n",
        "    return data_csv\n",
        "\n",
        "\n",
        "def upload_and_read_excel():\n",
        "\n",
        "    uploaded = files.upload()\n",
        "\n",
        "\n",
        "    file_name = next(iter(uploaded))\n",
        "\n",
        "\n",
        "    if not file_name.endswith('.xlsx'):\n",
        "        print(\"Please upload an Excel (.xlsx) file!\")\n",
        "        return None\n",
        "\n",
        "\n",
        "    data_excel = pd.read_excel(BytesIO(uploaded[file_name]))\n",
        "\n",
        "    return data_excel\n"
      ],
      "metadata": {
        "id": "Mwas41BC88-u"
      },
      "execution_count": 307,
      "outputs": []
    },
    {
      "cell_type": "markdown",
      "source": [
        "**First File, we are uploading is the CSV file we downloaded from SiteGrounds**\n",
        "\n",
        "**Second File, we are uploading is the Seminar Registration Form from Microsoft**"
      ],
      "metadata": {
        "id": "wgdhgDCZziF1"
      }
    },
    {
      "cell_type": "code",
      "source": [
        "db_data = upload_and_read_csv()\n",
        "\n",
        "forms_data = upload_and_read_excel()"
      ],
      "metadata": {
        "colab": {
          "base_uri": "https://localhost:8080/",
          "height": 126
        },
        "id": "30hPf3LNy91w",
        "outputId": "e45294db-7057-4173-b2ce-eeb855948d54"
      },
      "execution_count": 308,
      "outputs": [
        {
          "output_type": "display_data",
          "data": {
            "text/plain": [
              "<IPython.core.display.HTML object>"
            ],
            "text/html": [
              "\n",
              "     <input type=\"file\" id=\"files-76c2bacc-9fbe-4e7a-b065-c83ab59467a2\" name=\"files[]\" multiple disabled\n",
              "        style=\"border:none\" />\n",
              "     <output id=\"result-76c2bacc-9fbe-4e7a-b065-c83ab59467a2\">\n",
              "      Upload widget is only available when the cell has been executed in the\n",
              "      current browser session. Please rerun this cell to enable.\n",
              "      </output>\n",
              "      <script>// Copyright 2017 Google LLC\n",
              "//\n",
              "// Licensed under the Apache License, Version 2.0 (the \"License\");\n",
              "// you may not use this file except in compliance with the License.\n",
              "// You may obtain a copy of the License at\n",
              "//\n",
              "//      http://www.apache.org/licenses/LICENSE-2.0\n",
              "//\n",
              "// Unless required by applicable law or agreed to in writing, software\n",
              "// distributed under the License is distributed on an \"AS IS\" BASIS,\n",
              "// WITHOUT WARRANTIES OR CONDITIONS OF ANY KIND, either express or implied.\n",
              "// See the License for the specific language governing permissions and\n",
              "// limitations under the License.\n",
              "\n",
              "/**\n",
              " * @fileoverview Helpers for google.colab Python module.\n",
              " */\n",
              "(function(scope) {\n",
              "function span(text, styleAttributes = {}) {\n",
              "  const element = document.createElement('span');\n",
              "  element.textContent = text;\n",
              "  for (const key of Object.keys(styleAttributes)) {\n",
              "    element.style[key] = styleAttributes[key];\n",
              "  }\n",
              "  return element;\n",
              "}\n",
              "\n",
              "// Max number of bytes which will be uploaded at a time.\n",
              "const MAX_PAYLOAD_SIZE = 100 * 1024;\n",
              "\n",
              "function _uploadFiles(inputId, outputId) {\n",
              "  const steps = uploadFilesStep(inputId, outputId);\n",
              "  const outputElement = document.getElementById(outputId);\n",
              "  // Cache steps on the outputElement to make it available for the next call\n",
              "  // to uploadFilesContinue from Python.\n",
              "  outputElement.steps = steps;\n",
              "\n",
              "  return _uploadFilesContinue(outputId);\n",
              "}\n",
              "\n",
              "// This is roughly an async generator (not supported in the browser yet),\n",
              "// where there are multiple asynchronous steps and the Python side is going\n",
              "// to poll for completion of each step.\n",
              "// This uses a Promise to block the python side on completion of each step,\n",
              "// then passes the result of the previous step as the input to the next step.\n",
              "function _uploadFilesContinue(outputId) {\n",
              "  const outputElement = document.getElementById(outputId);\n",
              "  const steps = outputElement.steps;\n",
              "\n",
              "  const next = steps.next(outputElement.lastPromiseValue);\n",
              "  return Promise.resolve(next.value.promise).then((value) => {\n",
              "    // Cache the last promise value to make it available to the next\n",
              "    // step of the generator.\n",
              "    outputElement.lastPromiseValue = value;\n",
              "    return next.value.response;\n",
              "  });\n",
              "}\n",
              "\n",
              "/**\n",
              " * Generator function which is called between each async step of the upload\n",
              " * process.\n",
              " * @param {string} inputId Element ID of the input file picker element.\n",
              " * @param {string} outputId Element ID of the output display.\n",
              " * @return {!Iterable<!Object>} Iterable of next steps.\n",
              " */\n",
              "function* uploadFilesStep(inputId, outputId) {\n",
              "  const inputElement = document.getElementById(inputId);\n",
              "  inputElement.disabled = false;\n",
              "\n",
              "  const outputElement = document.getElementById(outputId);\n",
              "  outputElement.innerHTML = '';\n",
              "\n",
              "  const pickedPromise = new Promise((resolve) => {\n",
              "    inputElement.addEventListener('change', (e) => {\n",
              "      resolve(e.target.files);\n",
              "    });\n",
              "  });\n",
              "\n",
              "  const cancel = document.createElement('button');\n",
              "  inputElement.parentElement.appendChild(cancel);\n",
              "  cancel.textContent = 'Cancel upload';\n",
              "  const cancelPromise = new Promise((resolve) => {\n",
              "    cancel.onclick = () => {\n",
              "      resolve(null);\n",
              "    };\n",
              "  });\n",
              "\n",
              "  // Wait for the user to pick the files.\n",
              "  const files = yield {\n",
              "    promise: Promise.race([pickedPromise, cancelPromise]),\n",
              "    response: {\n",
              "      action: 'starting',\n",
              "    }\n",
              "  };\n",
              "\n",
              "  cancel.remove();\n",
              "\n",
              "  // Disable the input element since further picks are not allowed.\n",
              "  inputElement.disabled = true;\n",
              "\n",
              "  if (!files) {\n",
              "    return {\n",
              "      response: {\n",
              "        action: 'complete',\n",
              "      }\n",
              "    };\n",
              "  }\n",
              "\n",
              "  for (const file of files) {\n",
              "    const li = document.createElement('li');\n",
              "    li.append(span(file.name, {fontWeight: 'bold'}));\n",
              "    li.append(span(\n",
              "        `(${file.type || 'n/a'}) - ${file.size} bytes, ` +\n",
              "        `last modified: ${\n",
              "            file.lastModifiedDate ? file.lastModifiedDate.toLocaleDateString() :\n",
              "                                    'n/a'} - `));\n",
              "    const percent = span('0% done');\n",
              "    li.appendChild(percent);\n",
              "\n",
              "    outputElement.appendChild(li);\n",
              "\n",
              "    const fileDataPromise = new Promise((resolve) => {\n",
              "      const reader = new FileReader();\n",
              "      reader.onload = (e) => {\n",
              "        resolve(e.target.result);\n",
              "      };\n",
              "      reader.readAsArrayBuffer(file);\n",
              "    });\n",
              "    // Wait for the data to be ready.\n",
              "    let fileData = yield {\n",
              "      promise: fileDataPromise,\n",
              "      response: {\n",
              "        action: 'continue',\n",
              "      }\n",
              "    };\n",
              "\n",
              "    // Use a chunked sending to avoid message size limits. See b/62115660.\n",
              "    let position = 0;\n",
              "    do {\n",
              "      const length = Math.min(fileData.byteLength - position, MAX_PAYLOAD_SIZE);\n",
              "      const chunk = new Uint8Array(fileData, position, length);\n",
              "      position += length;\n",
              "\n",
              "      const base64 = btoa(String.fromCharCode.apply(null, chunk));\n",
              "      yield {\n",
              "        response: {\n",
              "          action: 'append',\n",
              "          file: file.name,\n",
              "          data: base64,\n",
              "        },\n",
              "      };\n",
              "\n",
              "      let percentDone = fileData.byteLength === 0 ?\n",
              "          100 :\n",
              "          Math.round((position / fileData.byteLength) * 100);\n",
              "      percent.textContent = `${percentDone}% done`;\n",
              "\n",
              "    } while (position < fileData.byteLength);\n",
              "  }\n",
              "\n",
              "  // All done.\n",
              "  yield {\n",
              "    response: {\n",
              "      action: 'complete',\n",
              "    }\n",
              "  };\n",
              "}\n",
              "\n",
              "scope.google = scope.google || {};\n",
              "scope.google.colab = scope.google.colab || {};\n",
              "scope.google.colab._files = {\n",
              "  _uploadFiles,\n",
              "  _uploadFilesContinue,\n",
              "};\n",
              "})(self);\n",
              "</script> "
            ]
          },
          "metadata": {}
        },
        {
          "output_type": "stream",
          "name": "stdout",
          "text": [
            "Saving weekly_seminar_tbl (3).csv to weekly_seminar_tbl (3) (9).csv\n"
          ]
        },
        {
          "output_type": "display_data",
          "data": {
            "text/plain": [
              "<IPython.core.display.HTML object>"
            ],
            "text/html": [
              "\n",
              "     <input type=\"file\" id=\"files-1537f513-e7ca-408f-bea4-429c2393137f\" name=\"files[]\" multiple disabled\n",
              "        style=\"border:none\" />\n",
              "     <output id=\"result-1537f513-e7ca-408f-bea4-429c2393137f\">\n",
              "      Upload widget is only available when the cell has been executed in the\n",
              "      current browser session. Please rerun this cell to enable.\n",
              "      </output>\n",
              "      <script>// Copyright 2017 Google LLC\n",
              "//\n",
              "// Licensed under the Apache License, Version 2.0 (the \"License\");\n",
              "// you may not use this file except in compliance with the License.\n",
              "// You may obtain a copy of the License at\n",
              "//\n",
              "//      http://www.apache.org/licenses/LICENSE-2.0\n",
              "//\n",
              "// Unless required by applicable law or agreed to in writing, software\n",
              "// distributed under the License is distributed on an \"AS IS\" BASIS,\n",
              "// WITHOUT WARRANTIES OR CONDITIONS OF ANY KIND, either express or implied.\n",
              "// See the License for the specific language governing permissions and\n",
              "// limitations under the License.\n",
              "\n",
              "/**\n",
              " * @fileoverview Helpers for google.colab Python module.\n",
              " */\n",
              "(function(scope) {\n",
              "function span(text, styleAttributes = {}) {\n",
              "  const element = document.createElement('span');\n",
              "  element.textContent = text;\n",
              "  for (const key of Object.keys(styleAttributes)) {\n",
              "    element.style[key] = styleAttributes[key];\n",
              "  }\n",
              "  return element;\n",
              "}\n",
              "\n",
              "// Max number of bytes which will be uploaded at a time.\n",
              "const MAX_PAYLOAD_SIZE = 100 * 1024;\n",
              "\n",
              "function _uploadFiles(inputId, outputId) {\n",
              "  const steps = uploadFilesStep(inputId, outputId);\n",
              "  const outputElement = document.getElementById(outputId);\n",
              "  // Cache steps on the outputElement to make it available for the next call\n",
              "  // to uploadFilesContinue from Python.\n",
              "  outputElement.steps = steps;\n",
              "\n",
              "  return _uploadFilesContinue(outputId);\n",
              "}\n",
              "\n",
              "// This is roughly an async generator (not supported in the browser yet),\n",
              "// where there are multiple asynchronous steps and the Python side is going\n",
              "// to poll for completion of each step.\n",
              "// This uses a Promise to block the python side on completion of each step,\n",
              "// then passes the result of the previous step as the input to the next step.\n",
              "function _uploadFilesContinue(outputId) {\n",
              "  const outputElement = document.getElementById(outputId);\n",
              "  const steps = outputElement.steps;\n",
              "\n",
              "  const next = steps.next(outputElement.lastPromiseValue);\n",
              "  return Promise.resolve(next.value.promise).then((value) => {\n",
              "    // Cache the last promise value to make it available to the next\n",
              "    // step of the generator.\n",
              "    outputElement.lastPromiseValue = value;\n",
              "    return next.value.response;\n",
              "  });\n",
              "}\n",
              "\n",
              "/**\n",
              " * Generator function which is called between each async step of the upload\n",
              " * process.\n",
              " * @param {string} inputId Element ID of the input file picker element.\n",
              " * @param {string} outputId Element ID of the output display.\n",
              " * @return {!Iterable<!Object>} Iterable of next steps.\n",
              " */\n",
              "function* uploadFilesStep(inputId, outputId) {\n",
              "  const inputElement = document.getElementById(inputId);\n",
              "  inputElement.disabled = false;\n",
              "\n",
              "  const outputElement = document.getElementById(outputId);\n",
              "  outputElement.innerHTML = '';\n",
              "\n",
              "  const pickedPromise = new Promise((resolve) => {\n",
              "    inputElement.addEventListener('change', (e) => {\n",
              "      resolve(e.target.files);\n",
              "    });\n",
              "  });\n",
              "\n",
              "  const cancel = document.createElement('button');\n",
              "  inputElement.parentElement.appendChild(cancel);\n",
              "  cancel.textContent = 'Cancel upload';\n",
              "  const cancelPromise = new Promise((resolve) => {\n",
              "    cancel.onclick = () => {\n",
              "      resolve(null);\n",
              "    };\n",
              "  });\n",
              "\n",
              "  // Wait for the user to pick the files.\n",
              "  const files = yield {\n",
              "    promise: Promise.race([pickedPromise, cancelPromise]),\n",
              "    response: {\n",
              "      action: 'starting',\n",
              "    }\n",
              "  };\n",
              "\n",
              "  cancel.remove();\n",
              "\n",
              "  // Disable the input element since further picks are not allowed.\n",
              "  inputElement.disabled = true;\n",
              "\n",
              "  if (!files) {\n",
              "    return {\n",
              "      response: {\n",
              "        action: 'complete',\n",
              "      }\n",
              "    };\n",
              "  }\n",
              "\n",
              "  for (const file of files) {\n",
              "    const li = document.createElement('li');\n",
              "    li.append(span(file.name, {fontWeight: 'bold'}));\n",
              "    li.append(span(\n",
              "        `(${file.type || 'n/a'}) - ${file.size} bytes, ` +\n",
              "        `last modified: ${\n",
              "            file.lastModifiedDate ? file.lastModifiedDate.toLocaleDateString() :\n",
              "                                    'n/a'} - `));\n",
              "    const percent = span('0% done');\n",
              "    li.appendChild(percent);\n",
              "\n",
              "    outputElement.appendChild(li);\n",
              "\n",
              "    const fileDataPromise = new Promise((resolve) => {\n",
              "      const reader = new FileReader();\n",
              "      reader.onload = (e) => {\n",
              "        resolve(e.target.result);\n",
              "      };\n",
              "      reader.readAsArrayBuffer(file);\n",
              "    });\n",
              "    // Wait for the data to be ready.\n",
              "    let fileData = yield {\n",
              "      promise: fileDataPromise,\n",
              "      response: {\n",
              "        action: 'continue',\n",
              "      }\n",
              "    };\n",
              "\n",
              "    // Use a chunked sending to avoid message size limits. See b/62115660.\n",
              "    let position = 0;\n",
              "    do {\n",
              "      const length = Math.min(fileData.byteLength - position, MAX_PAYLOAD_SIZE);\n",
              "      const chunk = new Uint8Array(fileData, position, length);\n",
              "      position += length;\n",
              "\n",
              "      const base64 = btoa(String.fromCharCode.apply(null, chunk));\n",
              "      yield {\n",
              "        response: {\n",
              "          action: 'append',\n",
              "          file: file.name,\n",
              "          data: base64,\n",
              "        },\n",
              "      };\n",
              "\n",
              "      let percentDone = fileData.byteLength === 0 ?\n",
              "          100 :\n",
              "          Math.round((position / fileData.byteLength) * 100);\n",
              "      percent.textContent = `${percentDone}% done`;\n",
              "\n",
              "    } while (position < fileData.byteLength);\n",
              "  }\n",
              "\n",
              "  // All done.\n",
              "  yield {\n",
              "    response: {\n",
              "      action: 'complete',\n",
              "    }\n",
              "  };\n",
              "}\n",
              "\n",
              "scope.google = scope.google || {};\n",
              "scope.google.colab = scope.google.colab || {};\n",
              "scope.google.colab._files = {\n",
              "  _uploadFiles,\n",
              "  _uploadFilesContinue,\n",
              "};\n",
              "})(self);\n",
              "</script> "
            ]
          },
          "metadata": {}
        },
        {
          "output_type": "stream",
          "name": "stdout",
          "text": [
            "Saving Seminar Registration 精英理財講座 登記表(1-4416).xlsx to Seminar Registration 精英理財講座 登記表(1-4416) (9).xlsx\n"
          ]
        }
      ]
    },
    {
      "cell_type": "markdown",
      "source": [
        "Data Manipulation on MSFT forms"
      ],
      "metadata": {
        "id": "8TeZ7lIOiad_"
      }
    },
    {
      "cell_type": "code",
      "source": [
        "forms_data.drop(columns=[\"ID\",\"Start time\",\"Email\",\"Name\"],inplace= True)"
      ],
      "metadata": {
        "id": "s0_ir4lsKkO_"
      },
      "execution_count": 309,
      "outputs": []
    },
    {
      "cell_type": "code",
      "source": [
        "forms_data['Completion time'] = forms_data['Completion time'].dt.strftime('%d-%b-%y')"
      ],
      "metadata": {
        "id": "_0CBUjHdIqFf"
      },
      "execution_count": 310,
      "outputs": []
    },
    {
      "cell_type": "code",
      "source": [
        "forms_data[\"Phone\"] = forms_data[\"Mobile Phone Number 手提電話號碼\"].apply(phoneNumberValidation)"
      ],
      "metadata": {
        "id": "kFuEN2FcKYtb"
      },
      "execution_count": 311,
      "outputs": []
    },
    {
      "cell_type": "code",
      "source": [
        "forms_data[\"Email\"] = forms_data[\"Email Address 電子郵箱\"].apply(emailValidation)\n",
        "forms_data['Email'] = forms_data['Email'].str.strip().str.lower()"
      ],
      "metadata": {
        "id": "_q2-zOVa-ge3"
      },
      "execution_count": 312,
      "outputs": []
    },
    {
      "cell_type": "code",
      "source": [
        "#Dropping Email Address and Phone Number with Chinese Characters and also changing the name of \"Completion Time\" to \"Seminar Registration Date\" and \"[Cantonese]\" to \"Seminar\"\n",
        "\n",
        "forms_data.drop(['Email Address 電子郵箱','Mobile Phone Number 手提電話號碼'],axis=1,inplace=True)\n",
        "forms_data.rename(columns={'Completion time':'Seminar Registration Date','[Cantonese]':'Seminar'},inplace=True)"
      ],
      "metadata": {
        "id": "1Q8t3D7U1QFP"
      },
      "execution_count": 313,
      "outputs": []
    },
    {
      "cell_type": "markdown",
      "source": [
        "Data Manipulation on Elite Internal VIEW\n"
      ],
      "metadata": {
        "id": "jwU2u-u-jNL9"
      }
    },
    {
      "cell_type": "code",
      "source": [
        "db_data['phone_no'] = db_data['phone_no'].fillna(db_data['mobile_no'])\n",
        "\n",
        "# Create a DataFrame where mobile_no is renamed to phone_no\n",
        "mobile_df = db_data[['first_name', 'last_name', 'common_name', 'advisor_fname', 'advisor_lname', 'email', 'mobile_no', 'status_name']].copy()\n",
        "mobile_df = mobile_df.rename(columns={\"mobile_no\": \"phone_no\"})\n",
        "\n",
        "# Combine both DataFrames to have rows containing all phone_no and mobile_no data\n",
        "combined_df = pd.concat([db_data[['first_name', 'last_name', 'common_name', 'advisor_fname', 'advisor_lname', 'email', 'phone_no', 'status_name']],\n",
        "                         mobile_df],\n",
        "                        ignore_index=True)\n",
        "\n",
        "# Remove duplicates and sort\n",
        "combined_df = combined_df.drop_duplicates().sort_values(['first_name', 'last_name', 'advisor_fname'])\n",
        "\n",
        "# Remove rows where phone_no is NaN or empty\n",
        "cleaned_db_data = combined_df.dropna(subset=['phone_no'])\n"
      ],
      "metadata": {
        "id": "q4GtGZbyuTC8"
      },
      "execution_count": 314,
      "outputs": []
    },
    {
      "cell_type": "code",
      "source": [
        "dbData = cleaned_db_data.copy()\n",
        "dbData['Assigned Advisor'] = dbData['advisor_fname'] + \" \"+ dbData['advisor_lname']\n",
        "dbData['Client Name From Elite Internal'] = dbData[\"first_name\"] + \" \" + dbData[\"last_name\"]\n",
        "dbData['Phone Number'] = dbData['phone_no']\n",
        "dbData['Assigned Status'] = dbData['status_name']\n",
        "dbData['Client Name From Elite Internal'] = dbData['Client Name From Elite Internal'].str.title().str.strip()\n",
        "dbData['Email'] = dbData['email'].str.strip().str.lower()\n"
      ],
      "metadata": {
        "id": "FKhvPTFE1xcU"
      },
      "execution_count": 315,
      "outputs": []
    },
    {
      "cell_type": "code",
      "source": [
        "columns_we_want = dbData[['Phone Number','Client Name From Elite Internal','Assigned Advisor','Assigned Status']]\n",
        "columns_we_want = columns_we_want.drop_duplicates()"
      ],
      "metadata": {
        "id": "Q8KFz2xmqnhL"
      },
      "execution_count": 316,
      "outputs": []
    },
    {
      "cell_type": "markdown",
      "source": [
        "Joining the tables"
      ],
      "metadata": {
        "id": "CKU0bpgfmlS9"
      }
    },
    {
      "cell_type": "code",
      "source": [
        "left_join_tbl = pd.merge(forms_data, columns_we_want, left_on='Phone', right_on='Phone Number', how='left')\n",
        "left_join_tbl.drop(['Phone Number'],axis = 1,inplace=True)"
      ],
      "metadata": {
        "id": "KUDCrGuxjhqZ"
      },
      "execution_count": 317,
      "outputs": []
    },
    {
      "cell_type": "code",
      "source": [
        "left_join_tbl['Assigned Advisor'] = left_join_tbl['Assigned Advisor'].fillna('New Client')\n",
        "left_join_tbl['Assigned Status'] = left_join_tbl['Assigned Status'].fillna('New Client')\n",
        "left_join_tbl['Client Name From Elite Internal'] = left_join_tbl['Client Name From Elite Internal'].fillna('New Client')\n",
        "left_join_tbl['Source'] = left_join_tbl['How did you hear about this event? 您從何得知是次講座？']"
      ],
      "metadata": {
        "id": "yhf7jQaVoL44"
      },
      "execution_count": 318,
      "outputs": []
    },
    {
      "cell_type": "code",
      "source": [
        "left_join_tbl = left_join_tbl.drop_duplicates()"
      ],
      "metadata": {
        "id": "ZT0aWXowo_VR"
      },
      "execution_count": 319,
      "outputs": []
    },
    {
      "cell_type": "code",
      "source": [
        "left_join_tbl.columns"
      ],
      "metadata": {
        "id": "56QUtSo_eUPZ",
        "colab": {
          "base_uri": "https://localhost:8080/"
        },
        "outputId": "40b0457c-6f31-4282-bca8-80751f45e8e5"
      },
      "execution_count": 320,
      "outputs": [
        {
          "output_type": "execute_result",
          "data": {
            "text/plain": [
              "Index(['Seminar Registration Date', 'Seminar', 'Seminar Format 講座形式',\n",
              "       'First Name 名字', 'Last Name 姓氏',\n",
              "       'Is this the first time you register for our seminar? 是否第一次參加我們的講座？',\n",
              "       'Choose the one that describes you 您是以下哪一位', 'Your Occupation 您的職業',\n",
              "       'What type of business do you own? 您的生意屬於哪種行業？',\n",
              "       'Number of staff? 員工人數?', 'Previous year Corporate Tax 上年企業稅',\n",
              "       'Principal Home Property Tax 自住物業地稅',\n",
              "       'Do you own any rental properties? 您是否有收租物業？',\n",
              "       'Type of rental properties that you own 您的收租物業屬於哪種？',\n",
              "       'Your current RRSP / RRIF amount? 您當前的 RRSP / RRIF 金額？',\n",
              "       'What are you hoping to learn from the seminar? 您希望從是次講座了解哪些資訊？',\n",
              "       'How did you hear about this event? 您從何得知是次講座？',\n",
              "       'Please enter the name of your referral:',\n",
              "       'Who is your financial advisor at Elite? 哪一位是您的精英理財顧問？', 'Remarks 補充資料',\n",
              "       'Phone', 'Email', 'Client Name From Elite Internal', 'Assigned Advisor',\n",
              "       'Assigned Status', 'Source'],\n",
              "      dtype='object')"
            ]
          },
          "metadata": {},
          "execution_count": 320
        }
      ]
    },
    {
      "cell_type": "markdown",
      "source": [
        "**If you want to remove a specific column look at the list above and copy and paste the above column in the box below with a , followed by quotation marks**"
      ],
      "metadata": {
        "id": "UnaC3ZBE_IG7"
      }
    },
    {
      "cell_type": "code",
      "source": [
        "columns_to_be_removed=['Seminar Format 講座形式','What type of business do you own? 您的生意屬於哪種行業？','Number of staff? 員工人數?','Previous year Corporate Tax 上年企業稅','What are you hoping to learn from the seminar? 您希望從是次講座了解哪些資訊？','Please enter the name of your referral:']"
      ],
      "metadata": {
        "id": "tfGun5pieUH2"
      },
      "execution_count": 321,
      "outputs": []
    },
    {
      "cell_type": "code",
      "source": [
        "left_join_tbl.drop(columns = columns_to_be_removed,inplace = True)"
      ],
      "metadata": {
        "id": "hrXyvN0LeT7f"
      },
      "execution_count": 322,
      "outputs": []
    },
    {
      "cell_type": "code",
      "source": [
        "output_df = left_join_tbl[['Seminar Registration Date','Seminar', 'First Name 名字', 'Last Name 姓氏',\n",
        "       'Email', 'Phone',\n",
        "       'Is this the first time you register for our seminar? 是否第一次參加我們的講座？',\n",
        "       'Choose the one that describes you 您是以下哪一位','Your Occupation 您的職業',\n",
        "       'Principal Home Property Tax 自住物業地稅',\n",
        "       'Type of rental properties that you own 您的收租物業屬於哪種？',\n",
        "       'Your current RRSP / RRIF amount? 您當前的 RRSP / RRIF 金額？','Source',\n",
        "       'Who is your financial advisor at Elite? 哪一位是您的精英理財顧問？', 'Remarks 補充資料',\n",
        "       'Client Name From Elite Internal', 'Assigned Advisor',\n",
        "       'Assigned Status']].copy()\n",
        "\n",
        "output_df[\"Advisor to contact\"] = output_df[\"Assigned Advisor\"].apply(lambda x: x if \"New Client\" not in x else \"Fill in Advisor Name\")"
      ],
      "metadata": {
        "id": "et3hWNypAKd8"
      },
      "execution_count": 323,
      "outputs": []
    },
    {
      "cell_type": "markdown",
      "source": [
        "**If you want a copy of the master list remove the # in the box below**"
      ],
      "metadata": {
        "id": "BuyPXsoLCIQe"
      }
    },
    {
      "cell_type": "code",
      "source": [
        "#output_df.to_csv(\"resulting.csv\", index=False, encoding='utf-8-sig')"
      ],
      "metadata": {
        "id": "bELSWdCpB7vX"
      },
      "execution_count": 324,
      "outputs": []
    },
    {
      "cell_type": "code",
      "source": [
        "seminar_title = output_df[\"Seminar\"].iloc[-1]\n",
        "this_seminar = output_df[output_df[\"Seminar\"]==seminar_title]"
      ],
      "metadata": {
        "id": "_cC9XmZBAZRv"
      },
      "execution_count": 325,
      "outputs": []
    },
    {
      "cell_type": "code",
      "source": [
        "this_seminar.to_csv(f\"current_seminar_generated_on_{datetime.now().date()}.csv\", index=False, encoding='utf-8-sig')\n",
        "files.download(f'current_seminar_generated_on_{datetime.now().date()}.csv')"
      ],
      "metadata": {
        "colab": {
          "base_uri": "https://localhost:8080/",
          "height": 17
        },
        "id": "2-kYi7P3C0nY",
        "outputId": "70314f67-4e21-4f1e-d10e-7596dc957bec"
      },
      "execution_count": 329,
      "outputs": [
        {
          "output_type": "display_data",
          "data": {
            "text/plain": [
              "<IPython.core.display.Javascript object>"
            ],
            "application/javascript": [
              "\n",
              "    async function download(id, filename, size) {\n",
              "      if (!google.colab.kernel.accessAllowed) {\n",
              "        return;\n",
              "      }\n",
              "      const div = document.createElement('div');\n",
              "      const label = document.createElement('label');\n",
              "      label.textContent = `Downloading \"${filename}\": `;\n",
              "      div.appendChild(label);\n",
              "      const progress = document.createElement('progress');\n",
              "      progress.max = size;\n",
              "      div.appendChild(progress);\n",
              "      document.body.appendChild(div);\n",
              "\n",
              "      const buffers = [];\n",
              "      let downloaded = 0;\n",
              "\n",
              "      const channel = await google.colab.kernel.comms.open(id);\n",
              "      // Send a message to notify the kernel that we're ready.\n",
              "      channel.send({})\n",
              "\n",
              "      for await (const message of channel.messages) {\n",
              "        // Send a message to notify the kernel that we're ready.\n",
              "        channel.send({})\n",
              "        if (message.buffers) {\n",
              "          for (const buffer of message.buffers) {\n",
              "            buffers.push(buffer);\n",
              "            downloaded += buffer.byteLength;\n",
              "            progress.value = downloaded;\n",
              "          }\n",
              "        }\n",
              "      }\n",
              "      const blob = new Blob(buffers, {type: 'application/binary'});\n",
              "      const a = document.createElement('a');\n",
              "      a.href = window.URL.createObjectURL(blob);\n",
              "      a.download = filename;\n",
              "      div.appendChild(a);\n",
              "      a.click();\n",
              "      div.remove();\n",
              "    }\n",
              "  "
            ]
          },
          "metadata": {}
        },
        {
          "output_type": "display_data",
          "data": {
            "text/plain": [
              "<IPython.core.display.Javascript object>"
            ],
            "application/javascript": [
              "download(\"download_664c5708-9aa0-424a-91a5-59956daa4801\", \"current_seminar_generated_on_2024-05-08.csv\", 11474)"
            ]
          },
          "metadata": {}
        }
      ]
    }
  ]
}